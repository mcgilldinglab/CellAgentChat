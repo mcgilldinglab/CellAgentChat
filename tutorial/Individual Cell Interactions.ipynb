{
 "cells": [
  {
   "cell_type": "markdown",
   "id": "e2648275",
   "metadata": {},
   "source": [
    "# Inference and analysis of individual cell interactions using CellAgentChat"
   ]
  },
  {
   "cell_type": "markdown",
   "id": "b13835ee",
   "metadata": {},
   "source": [
    "This tutorial provides a brief guide on CellAgentChat's capabilities in measuring cell interactions of individual cells. With the power of agent-based models, CellAgentChat is able to infer interactions at the cell level, in contrast to other methods which are only able to infer interactions at the cell population level.  "
   ]
  },
  {
   "cell_type": "markdown",
   "id": "efe9fe73",
   "metadata": {},
   "source": [
    "### Load Packages"
   ]
  },
  {
   "cell_type": "code",
   "execution_count": 19,
   "id": "401a5ba1",
   "metadata": {},
   "outputs": [],
   "source": [
    "from preprocessor import *\n",
    "from trajectory import *\n",
    "import model_setup\n",
    "from model_setup import *\n",
    "import scanpy as sc\n",
    "import permutations\n",
    "from permutations import *\n",
    "import Communication\n",
    "from Communication import *\n",
    "import abm\n",
    "from abm import *"
   ]
  },
  {
   "cell_type": "markdown",
   "id": "48696411",
   "metadata": {},
   "source": [
    "For instructions of how to perform data input, processing and initialization as well as model setup prior to running CCI inference and obtaining the receiving scores of individual cells, please look at our full tutorial.\n",
    "\n"
   ]
  },
  {
   "cell_type": "markdown",
   "id": "895eb960",
   "metadata": {},
   "source": [
    "## Part 3: Inference of cell-cell communication network"
   ]
  },
  {
   "cell_type": "markdown",
   "id": "6df6a1f8",
   "metadata": {},
   "source": [
    "We provide a function ```CCI``` calculate cell-cell interactions. \n",
    "\n",
    "Optional Parameters:\n",
    "\n",
    "```delta```: Influences the degree of cell-to-cell distance. For long-range mode, a delta value less than 1 is used. This promotes interactions over long distance ranges. While for short-range mode, a delta value greater than 1 is employed, promoting interactions over closer distance ranges [1].\n",
    "\n",
    "```max_steps```: Number of iterations to be performed in the simulation [1]. \n",
    "\n",
    "```tau```: The degree of the freedom for the distance [2].\n",
    "\n",
    "```noise```: Percentage of gaussian noise applied to the ligand diffusion rate at each step [5]\n",
    "\n",
    "```rec_block```: Receptor to be obstructed by in-silico receptor blocking. Interactions involving the chosen receptor will not occur [False].\n",
    "\n",
    "```plot_every_step```: Whether to plot results after every step [True].\n",
    "\n",
    "```path```: output path/directory [/out].\n",
    "\n",
    "```interaction_matrix```: Name of the interaction_matrix results file [interaction_matrix.csv].\n",
    "\n",
    "```sig_lr_pair```: Name of the file consisting of all the inferred cell-cell communications at the level of ligands/receptors [sig_lr_pair.csv].\n",
    "\n",
    "```pvalues_name```: Name of the file consisting of the pvalues for the interactions that correspond to the ```sig_lr_pair``` file [pvalues.csv]. \n",
    "\n",
    "```pvalues2_names```: Name of the file consisting of the pvalue group (0.05 < p < 0.025, 0.025< p < 0.01, p < 0.01) for the interactions that correspond to the ```sig_lr_pair``` file [pvalues2.csv]. \n",
    "\n",
    "```cluster_name```: Name of the file that stores the list of cell types(for plotting) [cluster_names.csv].\n",
    "\n",
    "```threshold```: The pvalue threshold for significant interactions [0.05]"
   ]
  },
  {
   "cell_type": "code",
   "execution_count": 10,
   "id": "deeab146",
   "metadata": {},
   "outputs": [
    {
     "name": "stdout",
     "output_type": "stream",
     "text": [
      "Calculating Interactions\n",
      "Step: 0\n",
      "Average Distance: 17.093959549195173\n",
      "Calculating Significant Interactions\n",
      "16346 significant interactions\n",
      "Percentage of significant interactions: 22.87017475130469\n",
      "Saving Files\n",
      "Saved files\n",
      "Plotting results\n",
      "null device \n",
      "          1 \n"
     ]
    },
    {
     "name": "stderr",
     "output_type": "stream",
     "text": [
      "Warning message:\n",
      "Using size for a discrete variable is not advised. \n"
     ]
    }
   ],
   "source": [
    "CAC_model = CCI(N=len(adata.obs), adata=adata, lig_uni=lig_uni, rec_uni=rec_uni, \n",
    "    rates=rates, distribution=params, clusters=clusters, dist=True)"
   ]
  },
  {
   "cell_type": "markdown",
   "id": "8639c6c8",
   "metadata": {},
   "source": [
    "The CCI function calculates all significant ligand-receptor interactions and plots a heatmap and dotplot of the results. "
   ]
  },
  {
   "cell_type": "markdown",
   "id": "646632cb",
   "metadata": {},
   "source": [
    "## Individual Cell Recieving Score"
   ]
  },
  {
   "cell_type": "markdown",
   "id": "6c4b3f10",
   "metadata": {},
   "source": [
    "Using the ```receiving score``` function, we can obtain the receiving score of each individual cell. The receiving score is the total number of interactions received to a cell. \n",
    "\n",
    "The ```model``` parameter is the CellAgentChat model used for CCI Inference above. "
   ]
  },
  {
   "cell_type": "code",
   "execution_count": 11,
   "id": "6f523a62",
   "metadata": {
    "scrolled": true
   },
   "outputs": [
    {
     "data": {
      "text/html": [
       "<div>\n",
       "<style scoped>\n",
       "    .dataframe tbody tr th:only-of-type {\n",
       "        vertical-align: middle;\n",
       "    }\n",
       "\n",
       "    .dataframe tbody tr th {\n",
       "        vertical-align: top;\n",
       "    }\n",
       "\n",
       "    .dataframe thead th {\n",
       "        text-align: right;\n",
       "    }\n",
       "</style>\n",
       "<table border=\"1\" class=\"dataframe\">\n",
       "  <thead>\n",
       "    <tr style=\"text-align: right;\">\n",
       "      <th></th>\n",
       "      <th>Cell</th>\n",
       "      <th>Cell Type</th>\n",
       "      <th>Receiving Score</th>\n",
       "    </tr>\n",
       "  </thead>\n",
       "  <tbody>\n",
       "    <tr>\n",
       "      <th>0</th>\n",
       "      <td>AAACACCAATAACTGC-1</td>\n",
       "      <td>BCell</td>\n",
       "      <td>402.474227</td>\n",
       "    </tr>\n",
       "    <tr>\n",
       "      <th>1</th>\n",
       "      <td>AAACAGAGCGACTCCT-1</td>\n",
       "      <td>NKer1</td>\n",
       "      <td>371.217991</td>\n",
       "    </tr>\n",
       "    <tr>\n",
       "      <th>2</th>\n",
       "      <td>AAACAGCTTTCAGAAG-1</td>\n",
       "      <td>MDC1</td>\n",
       "      <td>16.750949</td>\n",
       "    </tr>\n",
       "    <tr>\n",
       "      <th>3</th>\n",
       "      <td>AAACAGGGTCTATATT-1</td>\n",
       "      <td>MDC1</td>\n",
       "      <td>95.362629</td>\n",
       "    </tr>\n",
       "    <tr>\n",
       "      <th>4</th>\n",
       "      <td>AAACATGGTGAGAGGA-1</td>\n",
       "      <td>MDC1</td>\n",
       "      <td>5.125310</td>\n",
       "    </tr>\n",
       "    <tr>\n",
       "      <th>...</th>\n",
       "      <td>...</td>\n",
       "      <td>...</td>\n",
       "      <td>...</td>\n",
       "    </tr>\n",
       "    <tr>\n",
       "      <th>3286</th>\n",
       "      <td>TTGTTGTGTGTCAAGA-1</td>\n",
       "      <td>Endo</td>\n",
       "      <td>458.275480</td>\n",
       "    </tr>\n",
       "    <tr>\n",
       "      <th>3287</th>\n",
       "      <td>TTGTTTCACATCCAGG-1</td>\n",
       "      <td>Fib</td>\n",
       "      <td>108.984677</td>\n",
       "    </tr>\n",
       "    <tr>\n",
       "      <th>3288</th>\n",
       "      <td>TTGTTTCCATACAACT-1</td>\n",
       "      <td>Endo</td>\n",
       "      <td>94.664931</td>\n",
       "    </tr>\n",
       "    <tr>\n",
       "      <th>3289</th>\n",
       "      <td>TTGTTTGTATTACACG-1</td>\n",
       "      <td>MDC1</td>\n",
       "      <td>547.003170</td>\n",
       "    </tr>\n",
       "    <tr>\n",
       "      <th>3290</th>\n",
       "      <td>TTGTTTGTGTAAATTC-1</td>\n",
       "      <td>NKer3</td>\n",
       "      <td>921.510245</td>\n",
       "    </tr>\n",
       "  </tbody>\n",
       "</table>\n",
       "<p>3291 rows × 3 columns</p>\n",
       "</div>"
      ],
      "text/plain": [
       "                    Cell Cell Type  Receiving Score\n",
       "0     AAACACCAATAACTGC-1     BCell       402.474227\n",
       "1     AAACAGAGCGACTCCT-1     NKer1       371.217991\n",
       "2     AAACAGCTTTCAGAAG-1      MDC1        16.750949\n",
       "3     AAACAGGGTCTATATT-1      MDC1        95.362629\n",
       "4     AAACATGGTGAGAGGA-1      MDC1         5.125310\n",
       "...                  ...       ...              ...\n",
       "3286  TTGTTGTGTGTCAAGA-1      Endo       458.275480\n",
       "3287  TTGTTTCACATCCAGG-1       Fib       108.984677\n",
       "3288  TTGTTTCCATACAACT-1      Endo        94.664931\n",
       "3289  TTGTTTGTATTACACG-1      MDC1       547.003170\n",
       "3290  TTGTTTGTGTAAATTC-1     NKer3       921.510245\n",
       "\n",
       "[3291 rows x 3 columns]"
      ]
     },
     "execution_count": 11,
     "metadata": {},
     "output_type": "execute_result"
    }
   ],
   "source": [
    "data = receiving_score(model=CAC_model, path='out')\n",
    "data"
   ]
  },
  {
   "cell_type": "markdown",
   "id": "55e2bcae",
   "metadata": {},
   "source": [
    "A csv file containing the receiving scores of each cell is also saved to the ```path``` directory. "
   ]
  },
  {
   "cell_type": "markdown",
   "id": "e508c88c",
   "metadata": {},
   "source": [
    "Below the receiving scores are sorted in descending order."
   ]
  },
  {
   "cell_type": "code",
   "execution_count": 18,
   "id": "f9cf759d",
   "metadata": {},
   "outputs": [
    {
     "data": {
      "text/html": [
       "<div>\n",
       "<style scoped>\n",
       "    .dataframe tbody tr th:only-of-type {\n",
       "        vertical-align: middle;\n",
       "    }\n",
       "\n",
       "    .dataframe tbody tr th {\n",
       "        vertical-align: top;\n",
       "    }\n",
       "\n",
       "    .dataframe thead th {\n",
       "        text-align: right;\n",
       "    }\n",
       "</style>\n",
       "<table border=\"1\" class=\"dataframe\">\n",
       "  <thead>\n",
       "    <tr style=\"text-align: right;\">\n",
       "      <th></th>\n",
       "      <th>Cell</th>\n",
       "      <th>Cell Type</th>\n",
       "      <th>Receiving Score</th>\n",
       "    </tr>\n",
       "  </thead>\n",
       "  <tbody>\n",
       "    <tr>\n",
       "      <th>1741</th>\n",
       "      <td>GACCGTCAGGTCGTGA-1</td>\n",
       "      <td>TKer1</td>\n",
       "      <td>10071.125075</td>\n",
       "    </tr>\n",
       "    <tr>\n",
       "      <th>802</th>\n",
       "      <td>ATTCGACGCCGGGCCT-1</td>\n",
       "      <td>TCell</td>\n",
       "      <td>10029.051095</td>\n",
       "    </tr>\n",
       "    <tr>\n",
       "      <th>701</th>\n",
       "      <td>ATCCTGAATCGCTGCG-1</td>\n",
       "      <td>TCell</td>\n",
       "      <td>9008.522235</td>\n",
       "    </tr>\n",
       "    <tr>\n",
       "      <th>1060</th>\n",
       "      <td>CCAATCGGTAGATCGA-1</td>\n",
       "      <td>TKer2</td>\n",
       "      <td>8946.118482</td>\n",
       "    </tr>\n",
       "    <tr>\n",
       "      <th>2820</th>\n",
       "      <td>TCGTATTACCCATTGC-1</td>\n",
       "      <td>TCell</td>\n",
       "      <td>8940.774345</td>\n",
       "    </tr>\n",
       "    <tr>\n",
       "      <th>...</th>\n",
       "      <td>...</td>\n",
       "      <td>...</td>\n",
       "      <td>...</td>\n",
       "    </tr>\n",
       "    <tr>\n",
       "      <th>2880</th>\n",
       "      <td>TCTTTAGAGTCTAACA-1</td>\n",
       "      <td>Fib</td>\n",
       "      <td>0.000000</td>\n",
       "    </tr>\n",
       "    <tr>\n",
       "      <th>200</th>\n",
       "      <td>ACAAACCATGCGTCCT-1</td>\n",
       "      <td>MDC1</td>\n",
       "      <td>0.000000</td>\n",
       "    </tr>\n",
       "    <tr>\n",
       "      <th>1269</th>\n",
       "      <td>CCTTTAAGGGAGCACT-1</td>\n",
       "      <td>MDC1</td>\n",
       "      <td>0.000000</td>\n",
       "    </tr>\n",
       "    <tr>\n",
       "      <th>2585</th>\n",
       "      <td>TAGTCTAACAACGAGA-1</td>\n",
       "      <td>Fib</td>\n",
       "      <td>0.000000</td>\n",
       "    </tr>\n",
       "    <tr>\n",
       "      <th>2493</th>\n",
       "      <td>TACCGTGCCTCGGACC-1</td>\n",
       "      <td>NKer1</td>\n",
       "      <td>0.000000</td>\n",
       "    </tr>\n",
       "  </tbody>\n",
       "</table>\n",
       "<p>3291 rows × 3 columns</p>\n",
       "</div>"
      ],
      "text/plain": [
       "                    Cell Cell Type  Receiving Score\n",
       "1741  GACCGTCAGGTCGTGA-1     TKer1     10071.125075\n",
       "802   ATTCGACGCCGGGCCT-1     TCell     10029.051095\n",
       "701   ATCCTGAATCGCTGCG-1     TCell      9008.522235\n",
       "1060  CCAATCGGTAGATCGA-1     TKer2      8946.118482\n",
       "2820  TCGTATTACCCATTGC-1     TCell      8940.774345\n",
       "...                  ...       ...              ...\n",
       "2880  TCTTTAGAGTCTAACA-1       Fib         0.000000\n",
       "200   ACAAACCATGCGTCCT-1      MDC1         0.000000\n",
       "1269  CCTTTAAGGGAGCACT-1      MDC1         0.000000\n",
       "2585  TAGTCTAACAACGAGA-1       Fib         0.000000\n",
       "2493  TACCGTGCCTCGGACC-1     NKer1         0.000000\n",
       "\n",
       "[3291 rows x 3 columns]"
      ]
     },
     "execution_count": 18,
     "metadata": {},
     "output_type": "execute_result"
    }
   ],
   "source": [
    "data.sort_values(by=['Receiving Score'], ascending=False)"
   ]
  },
  {
   "cell_type": "markdown",
   "id": "af9f47d4",
   "metadata": {},
   "source": [
    "### Animation Platform"
   ]
  },
  {
   "cell_type": "markdown",
   "id": "d7b07916",
   "metadata": {},
   "source": [
    "We can also visualize the individual receiving scores of each cell using our animation platform. Please see our full tutorial or our animation video for more information. "
   ]
  },
  {
   "cell_type": "code",
   "execution_count": 13,
   "id": "88dce45e",
   "metadata": {},
   "outputs": [],
   "source": [
    "model_params = abm.parameters(adata, lig_uni, rec_uni, rates, clusters, pairs, proteins)\n",
    "abm.visualization(adata, model_params, dist_on=True, port=8521)"
   ]
  }
 ],
 "metadata": {
  "kernelspec": {
   "display_name": "Python 3 (ipykernel)",
   "language": "python",
   "name": "python3"
  },
  "language_info": {
   "codemirror_mode": {
    "name": "ipython",
    "version": 3
   },
   "file_extension": ".py",
   "mimetype": "text/x-python",
   "name": "python",
   "nbconvert_exporter": "python",
   "pygments_lexer": "ipython3",
   "version": "3.10.4"
  }
 },
 "nbformat": 4,
 "nbformat_minor": 5
}

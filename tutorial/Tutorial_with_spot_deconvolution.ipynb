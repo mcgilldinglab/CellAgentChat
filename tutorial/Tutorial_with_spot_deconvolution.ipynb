{
 "cells": [
  {
   "cell_type": "markdown",
   "id": "e2648275",
   "metadata": {},
   "source": [
    "# Inference and analysis of cell-cell communication using CellAgentChat"
   ]
  },
  {
   "cell_type": "markdown",
   "id": "b13835ee",
   "metadata": {},
   "source": [
    "This tutorial provides a step-by-step guide on performing inference, analysis, and visualization of a cell-cell communication network for a single dataset using CellAgentChat. We demonstrate the diverse capabilities of CellAgentChat by applying it to scRNA-seq data obtained from cells of human squamous cell carcinoma patients.\n",
    "\n",
    "CellAgentChat relies on user-provided gene expression data of cells and utilizes prior knowledge of signaling ligand-receptor interactions to model the probability of cell-cell communication. In this tutorial, we also showcase the incorporation of spatial transcriptomics data, which allows the model to consider the spatial proximity between cells when calculating cell-cell communication.\n",
    "\n",
    "CellAgentchat also provides an animation framework to view the interaction receiving strength of individual cells in real time. Once the intercellular communication network is inferred, CellAgentChat offers additional functionality for exploring, analyzing, and visualizing the data."
   ]
  },
  {
   "cell_type": "markdown",
   "id": "93043dfb",
   "metadata": {},
   "source": [
    "For this tutorial we will use the Visium heart dataset provided by SpatialScope and perform spot deconvolution to get true single-cell reoslution. Then we will use CellAgentChat to get CCIs on each cell."
   ]
  },
  {
   "cell_type": "markdown",
   "id": "efe9fe73",
   "metadata": {},
   "source": [
    "### Load Packages"
   ]
  },
  {
   "cell_type": "code",
   "execution_count": null,
   "id": "401a5ba1",
   "metadata": {},
   "outputs": [],
   "source": [
    "from preprocessor import *\n",
    "from trajectory import *\n",
    "import model_setup\n",
    "from model_setup import *\n",
    "import scanpy as sc\n",
    "import permutations\n",
    "from permutations import *\n",
    "import Communication\n",
    "from Communication import *\n",
    "import abm\n",
    "from abm import *\n",
    "import bckground_distribution\n",
    "from bckground_distribution import *"
   ]
  },
  {
   "cell_type": "markdown",
   "id": "64ab9cd8",
   "metadata": {},
   "source": [
    "## Part 1: Data input, processing and initialization"
   ]
  },
  {
   "cell_type": "markdown",
   "id": "c7568743",
   "metadata": {},
   "source": [
    "### Load Input Files"
   ]
  },
  {
   "cell_type": "markdown",
   "id": "45e38799",
   "metadata": {},
   "source": [
    "CellAgentChat requires two inputs: one is the gene expression data of cells, and the other is user assigned cell labels (i.e cell types/clusters). Optionally, the user can supply the spatial coordinates of cells, the pseudotime trajectory of cell (see pseudotime tutorial) and x_umap (optional, used for plotting). \n",
    "\n",
    "The required data are stored in the anndata file provided by SpatialScope which can be found [here](https://drive.google.com/drive/folders/1PXv_brtr-tXshBVEd_HSPIagjX9oF7Kg)."
   ]
  },
  {
   "cell_type": "code",
   "execution_count": null,
   "id": "31339aff",
   "metadata": {},
   "outputs": [],
   "source": [
    "adata = sc.read_h5ad(\"./demo_data/V1_Human_Heart_spatial.h5ad\")"
   ]
  },
  {
   "cell_type": "markdown",
   "id": "c9e654da",
   "metadata": {},
   "source": [
    "### Preprocess data"
   ]
  },
  {
   "cell_type": "markdown",
   "id": "92929781",
   "metadata": {},
   "source": [
    "Normalized data (e.g., cells and gene filtered, library-size normalization and then log-transformed with a pseudocount of 1) is required as input for CellAgentChat analysis. If user provides count data, we provide an ```expression_processor``` function. In our example, the data is already normalized."
   ]
  },
  {
   "cell_type": "code",
   "execution_count": null,
   "id": "9bfbf029",
   "metadata": {},
   "outputs": [],
   "source": [
    "adata = expression_processor(adata, normalize = True)"
   ]
  },
  {
   "cell_type": "markdown",
   "id": "55e501c7",
   "metadata": {},
   "source": [
    "## Part 2: Model Setup"
   ]
  },
  {
   "cell_type": "markdown",
   "id": "da4a9b07",
   "metadata": {},
   "source": [
    "### Loading Database"
   ]
  },
  {
   "cell_type": "markdown",
   "id": "937c9a3b",
   "metadata": {},
   "source": [
    "The default database is derived from CellTalkDB which is a manually curated database of literature-supported ligand-receptor interactions in humans and mouse. CellTalkDB contains almost 3400 validated molecular human interactions and over 2000 validated mouse interactions.\n",
    "\n",
    "Change ```file = 'mouse_lr_pair.tsv'``` for mouse database.\n",
    "\n",
    "Users can upload their own database file with curated ligand-receptor pairs."
   ]
  },
  {
   "cell_type": "code",
   "execution_count": null,
   "id": "4661266a",
   "metadata": {},
   "outputs": [],
   "source": [
    "lig_uni, rec_uni, lr_pairs = load_db(adata, file = 'human_lr_pair.tsv',sep='\\t')\n",
    "#'../Revision/new_ccdb.csv'"
   ]
  },
  {
   "cell_type": "markdown",
   "id": "43db8dc9",
   "metadata": {},
   "source": [
    "CellAgentChat incorporates prior knowledge of TF-receptor and TF-gene ```human``` or ```mouse``` interactions from pre-existing databases to create a partially connected feedforward network."
   ]
  },
  {
   "cell_type": "code",
   "execution_count": null,
   "id": "b477e1fa",
   "metadata": {},
   "outputs": [],
   "source": [
    "tf_uni, rec_tf_uni = load_tf_db(\"human\", adata, rec_uni)"
   ]
  },
  {
   "cell_type": "markdown",
   "id": "6d3f685f",
   "metadata": {},
   "source": [
    "## Part 3: Spot Deconvolution Using SpatialScope "
   ]
  },
  {
   "cell_type": "markdown",
   "id": "742aeeb1",
   "metadata": {},
   "source": [
    "### Preprocess snRNA-seq Reference Dataset "
   ]
  },
  {
   "cell_type": "markdown",
   "id": "9dafb21c",
   "metadata": {},
   "source": [
    "The scRNAseq reference should from the exact same tissue that contains all the celltypes you expect to find in ST spots.\n",
    "\n",
    "Since we are using a human heart dataset, we will use a human heart snRNA-seq atlas as reference dataset, the raw dataset in h5ad format (global_raw.h5ad) is available in [here](https://www.heartcellatlas.org/).\n",
    "\n",
    "SpatialScope also provided the pre-pocessed snRNA-ref (Ckpts_scRefs/Heart_D2/Ref_Heart_sanger_D2.h5ad) as well as other relevent materials involved in the following example in [here](https://drive.google.com/drive/folders/1PXv_brtr-tXshBVEd_HSPIagjX9oF7Kg), so you can skip this part if using this dataset. "
   ]
  },
  {
   "cell_type": "markdown",
   "id": "b0f1e626",
   "metadata": {},
   "source": [
    "NOTE: Some of these steps are specific to the reference dataset used in the tutorial. "
   ]
  },
  {
   "cell_type": "code",
   "execution_count": null,
   "id": "5f2d0c89",
   "metadata": {},
   "outputs": [],
   "source": [
    "ad_sc = sc.read('global_raw.h5ad')\n",
    "\n",
    "ad_sc = ad_sc[ad_sc.obs['cell_type']!='doublets']   \n",
    "ad_sc = ad_sc[ad_sc.obs['cell_type']!='NotAssigned']  \n",
    "ad_sc = ad_sc[ad_sc.obs['cell_type']!='Mesothelial']  \n",
    "ad_sc = ad_sc[ad_sc.obs['cell_source']=='Sanger-Nuclei']  \n",
    "\n",
    "cell_type_column = 'cell_type'\n",
    "\n",
    "sc.pp.filter_cells(ad_sc, min_counts=500)\n",
    "sc.pp.filter_cells(ad_sc, max_counts=20000)\n",
    "sc.pp.filter_genes(ad_sc, min_cells=5)\n",
    "ad_sc = ad_sc[:,~np.array([_.startswith('MT-') for _ in ad_sc.var.index])]\n",
    "ad_sc = ad_sc[:,~np.array([_.startswith('mt-') for _ in ad_sc.var.index])]\n",
    "\n",
    "ad_sc = ad_sc[ad_sc.obs['donor']=='D2'].copy() # reduce batch effect among doners\n",
    "ad_sc = ad_sc[ad_sc.obs.index.isin(ad_sc.obs.groupby('cell_type').apply(\n",
    "    lambda x: x.sample(frac=3000/x.shape[0],replace=False) if x.shape[0]>3000 else x).reset_index(level=0,drop=True).index)].copy()"
   ]
  },
  {
   "cell_type": "markdown",
   "id": "5f4d4548",
   "metadata": {},
   "source": [
    "SpatialScope recommends using the top 1000 Highly Variable genes as well as the top 50 marker genes for each cell type. We will also include the ligands and receptors since we are focused on CCI. "
   ]
  },
  {
   "cell_type": "code",
   "execution_count": null,
   "id": "d7637f4a",
   "metadata": {},
   "outputs": [],
   "source": [
    "ad_sc.raw = ad_sc.copy()\n",
    "sc.pp.normalize_total(ad_sc,target_sum=2000)\n",
    "\n",
    "sc.pp.highly_variable_genes(ad_sc, flavor='seurat_v3',n_top_genes=1000)\n",
    "sc.tl.rank_genes_groups(ad_sc, groupby=cell_type_column, method='wilcoxon')\n",
    "markers_df = pd.DataFrame(ad_sc.uns[\"rank_genes_groups\"][\"names\"]).iloc[0:100, :]\n",
    "markers = list(np.unique(markers_df.melt().value.values))\n",
    "markers = list(set(ad_sc.var.loc[ad_sc.var['highly_variable']==1].index)|set(markers)) # highly variable genes + cell type marker genes\n",
    "\n",
    "lr_genes = list(lig_uni.keys()) + list(rec_uni.keys())\n",
    "\n",
    "markers = markers+add_genes+ligand_recept"
   ]
  },
  {
   "cell_type": "code",
   "execution_count": null,
   "id": "012c2195",
   "metadata": {},
   "outputs": [],
   "source": [
    "ad_sc.var.loc[ad_sc.var.index.isin(markers),'Marker'] = True\n",
    "ad_sc.var['Marker'] = ad_sc.var['Marker'].fillna(False)\n",
    "ad_sc.var['highly_variable'] = ad_sc.var['Marker']\n",
    "\n",
    "sc.pp.log1p(ad_sc)"
   ]
  },
  {
   "cell_type": "code",
   "execution_count": null,
   "id": "290e3cdc",
   "metadata": {},
   "outputs": [],
   "source": [
    "ad_sc.write(\"Ckpts_scRefs/Heart_D2/Ref_Heart_sanger_D2.h5ad\")"
   ]
  },
  {
   "cell_type": "markdown",
   "id": "3c17698d",
   "metadata": {},
   "source": [
    "### Train Model "
   ]
  },
  {
   "cell_type": "markdown",
   "id": "87999ef6",
   "metadata": {},
   "source": [
    "NOTE: make sure to update paths"
   ]
  },
  {
   "cell_type": "markdown",
   "id": "17dcd813",
   "metadata": {},
   "source": [
    "Four GPUs used to train scRNA-seq reference in parallel.\n",
    "\n",
    "    python ./src/Train_scRef.py \n",
    "        --ckpt_path ./Ckpts_scRefs/Heart_D2\n",
    "        --scRef ./Ckpts_scRefs/Heart_D2/Ref_Heart_sanger_D2.h5ad \n",
    "        --cell_class_column cell_type \n",
    "        --gpus 0,1,2,3 \n",
    "        --sigma_begin 50 \n",
    "        --sigma_end 0.002 \n",
    "        --step_lr 3e-7 \n",
    "\n",
    "\n",
    "The checkpoints and sampled psuedo-cells will be saved in ./Ckpts_scRefs, e.g, model_5000.pt, model_5000.h5ad\n",
    "\n",
    "\n",
    "SpatialScope has provided the pre-trained checkpoint (Ckpts_scRefs/model_5000.pt) for this dataset in [here](https://drive.google.com/drive/folders/1PXv_brtr-tXshBVEd_HSPIagjX9oF7Kg), so you can skip this part if using this dataset"
   ]
  },
  {
   "cell_type": "markdown",
   "id": "337e6800",
   "metadata": {},
   "source": [
    "### Run SpatialScope"
   ]
  },
  {
   "cell_type": "markdown",
   "id": "2c968e04",
   "metadata": {},
   "source": [
    "NOTE: Make sure to update paths"
   ]
  },
  {
   "cell_type": "markdown",
   "id": "22f44550",
   "metadata": {},
   "source": [
    "#### Step1: Nuclei segmentation"
   ]
  },
  {
   "cell_type": "markdown",
   "id": "0e5ea7ec",
   "metadata": {},
   "source": [
    "    python ./src/Nuclei_Segmentation.py \n",
    "        --tissue heart \n",
    "        --out_dir  ./output  \n",
    "        --ST_Data ./demo_data/V1_Human_Heart_spatial.h5ad \n",
    "        --Img_Data  ./demo_data/V1_Human_Heart_image.tif"
   ]
  },
  {
   "cell_type": "markdown",
   "id": "87ee9f4f",
   "metadata": {},
   "source": [
    "#### Step2: Cell Type Identification"
   ]
  },
  {
   "cell_type": "markdown",
   "id": "5f87244d",
   "metadata": {},
   "source": [
    "    python ./src/Cell_Type_Identification.py \n",
    "        --tissue heart \n",
    "        --out_dir  ./output  \n",
    "        --ST_Data ./output/heart/sp_adata_ns.h5ad \n",
    "        --SC_Data ./Ckpts_scRefs/Heart_D2/Ref_Heart_sanger_D2.h5ad \n",
    "        --cell_class_column cell_type"
   ]
  },
  {
   "cell_type": "markdown",
   "id": "dc761bab",
   "metadata": {},
   "source": [
    "#### Step3: Gene Expression Decomposition"
   ]
  },
  {
   "cell_type": "markdown",
   "id": "0e6d34be",
   "metadata": {},
   "source": [
    "SpatialScope is limited by GPU memory, so it can only handle at most about 1000 spots in 4 GPUs at a time\n",
    "\n",
    "    python ./src/Decomposition.py \n",
    "        --tissue heart \n",
    "        --out_dir  ./output \n",
    "        --SC_Data ./Ckpts_scRefs/Heart_D2/Ref_Heart_sanger_D2.h5ad \n",
    "        --cell_class_column cell_type  \n",
    "        --ckpt_path ./Ckpts_scRefs/Heart_D2/model_5000.pt \n",
    "        --spot_range 0,1000 --gpu 0,1,2,3\n",
    "\n",
    "    python ./src/Decomposition.py \n",
    "        --tissue heart \n",
    "        --out_dir  ./output \n",
    "        --SC_Data ./Ckpts_scRefs/Heart_D2/Ref_Heart_sanger_D2.h5ad \n",
    "        --cell_class_column cell_type  \n",
    "        --ckpt_path ./Ckpts_scRefs/Heart_D2/model_5000.pt \n",
    "        --spot_range 1000,2000 \n",
    "        --gpu 0,1,2,3\n",
    "        \n",
    "    python ./src/Decomposition.py \n",
    "        --tissue heart \n",
    "        --out_dir  ./output \n",
    "        --SC_Data ./Ckpts_scRefs/Heart_D2/Ref_Heart_sanger_D2.h5ad \n",
    "        --cell_class_column cell_type  \n",
    "        --ckpt_path ./Ckpts_scRefs/Heart_D2/model_5000.pt \n",
    "        --spot_range 2000,3000 --gpu 0,1,2,3\n",
    "\n",
    "    python ./src/Decomposition.py \n",
    "        --tissue heart \n",
    "        --out_dir  ./output \n",
    "        --SC_Data ./Ckpts_scRefs/Heart_D2/Ref_Heart_sanger_D2.h5ad \n",
    "        --cell_class_column cell_type  \n",
    "        --ckpt_path ./Ckpts_scRefs/Heart_D2/model_5000.pt \n",
    "        --spot_range 3000,4000 \n",
    "        --gpu 0,1,2,3\n",
    "\n",
    "    python ./src/Decomposition.py \n",
    "        --tissue heart \n",
    "        --out_dir  ./output \n",
    "        --SC_Data ./Ckpts_scRefs/Heart_D2/Ref_Heart_sanger_D2.h5ad \n",
    "        --cell_class_column cell_type  \n",
    "        --ckpt_path ./Ckpts_scRefs/Heart_D2/model_5000.pt \n",
    "        --spot_range 4000,4220 \n",
    "        --gpu 0,1,2,3"
   ]
  },
  {
   "cell_type": "markdown",
   "id": "4ae1fb36",
   "metadata": {},
   "source": [
    "### Arrange Deconvoluted Spots into One Anndata File"
   ]
  },
  {
   "cell_type": "code",
   "execution_count": null,
   "id": "da51d586",
   "metadata": {},
   "outputs": [],
   "source": [
    "ad_scsts_list = []\n",
    "ad_scsts_list.append(sc.read('output/heart/generated_cells_spot0_1000.h5ad'))\n",
    "ad_scsts_list.append(sc.read('output/heart/generated_cells_spot1000_2000.h5ad'))\n",
    "ad_scsts_list.append(sc.read('output/heart/generated_cells_spot2000_3000.h5ad'))\n",
    "ad_scsts_list.append(sc.read('output/heart/generated_cells_spot3000_4000.h5ad'))\n",
    "ad_scsts_list.append(sc.read('output/heart/generated_cells_spot4000_4220.h5ad'))\n",
    "\n",
    "adata_decon = ad_scsts_list[0].concatenate(\n",
    "        ad_scsts_list[1:],\n",
    "        batch_key=\"_\",\n",
    "        uns_merge=\"unique\",\n",
    "        index_unique=None\n",
    "        )"
   ]
  },
  {
   "cell_type": "markdown",
   "id": "9469f0b5",
   "metadata": {},
   "source": [
    "Now we have our final anndata file with deconvolved spots to get true single-cellr esolution. We will now use this anndata for the rest of the tutorial to calculate CCIs using CellAgentChat"
   ]
  },
  {
   "cell_type": "markdown",
   "id": "f82cabc4",
   "metadata": {},
   "source": [
    "For more info on using SpatialScope for spot dconvolution, check their tutorial [here](https://github.com/YangLabHKUST/SpatialScope/blob/master/demos/Human-Heart.ipynb)."
   ]
  },
  {
   "cell_type": "markdown",
   "id": "694f1c98",
   "metadata": {},
   "source": [
    "## Part 4: Continue Model Setup "
   ]
  },
  {
   "cell_type": "markdown",
   "id": "2c7635d2",
   "metadata": {},
   "source": [
    "### Deep Learning Model to estimate downstream expression"
   ]
  },
  {
   "cell_type": "markdown",
   "id": "b9b27313",
   "metadata": {},
   "source": [
    "Setup and train neural network. The neural network takes as input a vector vr<sub>i</sub> representing expression of all receptors in cell i. This receptor expression vector is then fed into the neural network (F) to predict the expression x<sub>i</sub>  of all genes in cell i (regression task). The neural network structure was composed the following components: one input layer, one hidden layer, and output layer. The input layer is of size equivalent to the number of receptors. The output layer is the same size as the number of all genes. The hidden layer is of size one thousand representing transcription factors involved in downstream signaling pathways.\n",
    "\n",
    "The neural network takes as input two vectors, x<sub>j</sub><sup>R</sup>, representing expression of all receptors in cell j and $\\frac{1}{N}$ $\\sum_{i=1}^N$ x<sub>i</sub><sup>L</sup>, representing the average expression of all ligands across the set of all N cells. These two vectors are then fed into the neural network (f) to predict the expression $\\hat{x}_j^R$ of all genes in cell j (regression task). The neural network structure comprises the following components: two input layers, two hidden layers, and one output layer. The size of the two input layers corresponds to the number of ligands and receptors, respectively. The first hidden layer is dedicated to representing specific LR pairs. Each node in this layer receives two connections, one corresponding to a ligand and the other to a receptor, thus encapsulating the unique LR pair interactions. The second hidden layer represents transcription factors involved in downstream signaling pathways. We leverage scSeqComm, a database that incorporates insights from KEGG and REACTOME pathways to delineate the association between a receptor and its downstream transcription factors (TFs), to inform the connections between this layer and the previous one. The output layer is responsible for outputting downstream gene expression predictions. To establish connections between known TFs and their downstream gene targets, we utilize prior knowledge from databases such as TRRUST v2, HTRIdb, and RegNetwork. If specific information regarding the target genes of certain TFs is unavailable, we utilize dense connections.\n",
    "\n",
    "The model is saved to the path provided in the ```path``` argument."
   ]
  },
  {
   "cell_type": "code",
   "execution_count": null,
   "id": "52067546",
   "metadata": {
    "scrolled": true
   },
   "outputs": [],
   "source": [
    "mat, C = train(adata_decon, lig_uni, rec_uni, tf_uni, rec_tf_uni, lr_pairs, path=\"model.pt\")"
   ]
  },
  {
   "cell_type": "markdown",
   "id": "922c5c1e",
   "metadata": {},
   "source": [
    "Load deep learning model"
   ]
  },
  {
   "cell_type": "code",
   "execution_count": null,
   "id": "c0174e8d",
   "metadata": {},
   "outputs": [],
   "source": [
    "model_dl = load_model(\"model.pt\")"
   ]
  },
  {
   "cell_type": "markdown",
   "id": "cd03eb1e",
   "metadata": {},
   "source": [
    "### Caculate conversion rates for each receptor"
   ]
  },
  {
   "cell_type": "markdown",
   "id": "3391de2d",
   "metadata": {},
   "source": [
    "With the trained neural network regressor, we then perform sensitivity analysis to score each input receptor based on how much impact it imposes on the downstream gene expression. This is known as the conversion rate for a receptor. "
   ]
  },
  {
   "cell_type": "code",
   "execution_count": null,
   "id": "532d05de",
   "metadata": {},
   "outputs": [],
   "source": [
    "conversion_rates = feature_selection(model = model_dl, mat=mat, C=C, rec_uni=rec_uni)"
   ]
  },
  {
   "cell_type": "markdown",
   "id": "8ccc888f",
   "metadata": {},
   "source": [
    "Save conversion rates"
   ]
  },
  {
   "cell_type": "code",
   "execution_count": null,
   "id": "19b4317e",
   "metadata": {},
   "outputs": [],
   "source": [
    "save_conversion_rate(conversion_rates, file='conversion_rates.txt')"
   ]
  },
  {
   "cell_type": "markdown",
   "id": "a0057136",
   "metadata": {},
   "source": [
    "Load conversion rates"
   ]
  },
  {
   "cell_type": "code",
   "execution_count": null,
   "id": "490b508c",
   "metadata": {},
   "outputs": [],
   "source": [
    "conversion_rates = load_conversion_rate(file='conversion_rates.txt')\n",
    "rates = add_rates(conversion_rates, rec_uni)"
   ]
  },
  {
   "cell_type": "markdown",
   "id": "7e37c6eb",
   "metadata": {},
   "source": [
    "### Background Distribution"
   ]
  },
  {
   "cell_type": "markdown",
   "id": "dbc3bb76",
   "metadata": {},
   "source": [
    "We employed a random permutation test to calculate the statistical significance p-value associated with each ligand-receptor interaction score. The significant interactions between two cell groups are identified using a permutation test by randomly permuting the group labels of cells and then recalculating the interaction score for each ligand receptor. After each permutation the ligand-receptor score is stored regardless of what cell type pair it came from. \n",
    "\n",
    "The ```threshold``` argument sets the minimum number of score values needed on average for each ligand-receptor pair. We recommend atleast a ```threshold=10000``` or greater.\n",
    "\n",
    "```dist=True```  specifies that we want to consider the spatial coordinates of cells when infering cellular interaction. This leads to the calculation of the average distance between cells, which will be used in the subsequent steps. When spatial information is not provided ```dist=False``` should be set. \n",
    "\n",
    "```N``` specifies the number of cells to include in the calculation. By defualt all the cells are included, but the user can specify to use less. "
   ]
  },
  {
   "cell_type": "code",
   "execution_count": null,
   "id": "20b8707f",
   "metadata": {},
   "outputs": [],
   "source": [
    "test_scores, model2, distance = permutation_test(threshold = 10000, N=len(adata_decon.obs), adata=adata_decon, \n",
    "                                                 lig_uni=lig_uni, rec_uni=rec_uni, rates=rates, dist=True)"
   ]
  },
  {
   "cell_type": "markdown",
   "id": "dfe46622",
   "metadata": {},
   "source": [
    "The average distance between all cells"
   ]
  },
  {
   "cell_type": "code",
   "execution_count": null,
   "id": "b37aa95f",
   "metadata": {},
   "outputs": [],
   "source": [
    "distance"
   ]
  },
  {
   "cell_type": "markdown",
   "id": "bfccad5c",
   "metadata": {},
   "source": [
    "For each ligand-receptor pair, we fit the random score distribution with a gamma distribution. By fitting the observed interaction scores (for a specific Ligand-Receptor) pair to a Gamma distribution, we get the estimated parameters (alpha and scale) of the gamma distribution to represent the random interaction score distribution of the Ligand-Receptor pair. \n",
    "\n",
    "Due to the computational expense of calculating the distances between all cells in the dataset, the permutation test can be quite costly, especially when considering spatial information. To address this, we have devised a method to match the background gamma distribution of non-spatial calculations with that of spatial ones by scaling the parameters. If the parameters must be scaled the ```dist``` parameter must be given the average distance between the  cells and the ```scale``` parameter must be set to ```True```. "
   ]
  },
  {
   "cell_type": "code",
   "execution_count": null,
   "id": "73a7845f",
   "metadata": {},
   "outputs": [],
   "source": [
    "params = get_distribution(test_scores, dist=distance, scaled=True)"
   ]
  },
  {
   "cell_type": "markdown",
   "id": "0046ba0c",
   "metadata": {},
   "source": [
    "Save the background distribution for each ligand to the given path"
   ]
  },
  {
   "cell_type": "code",
   "execution_count": null,
   "id": "962e24d4",
   "metadata": {},
   "outputs": [],
   "source": [
    "save_distribution(params, path='new_distribution.csv')"
   ]
  },
  {
   "cell_type": "markdown",
   "id": "d058b008",
   "metadata": {},
   "source": [
    "Load the background distribution for each ligand to the given path"
   ]
  },
  {
   "cell_type": "code",
   "execution_count": null,
   "id": "036f41a3",
   "metadata": {},
   "outputs": [],
   "source": [
    "params = load_distribution(file='new_distribution.csv')"
   ]
  },
  {
   "cell_type": "markdown",
   "id": "dd5f3773",
   "metadata": {},
   "source": [
    "### Get choices"
   ]
  },
  {
   "cell_type": "markdown",
   "id": "cfa123ef",
   "metadata": {},
   "source": [
    "When inferring cell communication, the following three lists are used to track specific receptors, ligand-receptor pairs, or cell types:\n",
    "\n",
    "```proteins``` contains all the receptors in database. \n",
    "\n",
    "```pairs``` contains all the ligand-receptor pairs in the database. \n",
    "\n",
    "```clusters``` contains all the cell types/clusters present in the dataset. "
   ]
  },
  {
   "cell_type": "code",
   "execution_count": null,
   "id": "cacdd425",
   "metadata": {},
   "outputs": [],
   "source": [
    "proteins = get_protein_choices(rec_uni)\n",
    "pairs = get_lr_choices(rec_uni, lig_uni)\n",
    "clusters = get_cluster_choices(adata_decon)"
   ]
  },
  {
   "cell_type": "markdown",
   "id": "895eb960",
   "metadata": {},
   "source": [
    "## Part 5: Inference of cell-cell communication network"
   ]
  },
  {
   "cell_type": "markdown",
   "id": "6df6a1f8",
   "metadata": {},
   "source": [
    "We provide a function ```CCI``` calculate cell-cell interactions. \n",
    "\n",
    "Optional Parameters:\n",
    "\n",
    "```delta```: Influences the degree of cell-to-cell distance. For long-range mode, a delta value less than 1 is used. This promotes interactions over long distance ranges. While for short-range mode, a delta value greater than 1 is employed, promoting interactions over closer distance ranges [1].\n",
    "\n",
    "```max_steps```: Number of iterations to be performed in the simulation [1]. \n",
    "\n",
    "```tau```: The degree of the freedom for the distance [2].\n",
    "\n",
    "```rec_block```: Receptor to be obstructed by in-silico receptor blocking. Interactions involving the chosen receptor will not occur [False].\n",
    "\n",
    "```plot_every_step```: Whether to plot results after every step [True].\n",
    "\n",
    "```path```: output path/directory [/out].\n",
    "\n",
    "```interaction_matrix```: Name of the interaction_matrix results file [interaction_matrix.csv].\n",
    "\n",
    "```sig_lr_pair```: Name of the file consisting of all the inferred cell-cell communications at the level of ligands/receptors [sig_lr_pair.csv].\n",
    "\n",
    "```pvalues_name```: Name of the file consisting of the pvalues for the interactions that correspond to the ```sig_lr_pair``` file [pvalues.csv]. \n",
    "\n",
    "```pvalues2_names```: Name of the file consisting of the pvalue group (0.05 < p < 0.025, 0.025< p < 0.01, p < 0.01) for the interactions that correspond to the ```sig_lr_pair``` file [pvalues2.csv]. \n",
    "\n",
    "```cluster_name```: Name of the file that stores the list of cell types(for plotting) [cluster_names.csv].\n",
    "\n",
    "```threshold```: The pvalue threshold for significant interactions [0.05]\n",
    "\n",
    "```net```: Neural network model path"
   ]
  },
  {
   "cell_type": "code",
   "execution_count": null,
   "id": "deeab146",
   "metadata": {},
   "outputs": [],
   "source": [
    "abm_model = CCI(N=len(adata_decon.obs), adata=adata_decon, lig_uni=lig_uni, rec_uni=rec_uni, max_steps=1,\n",
    "    rates=rates, distribution=params, clusters=clusters, dist=True, threshold=0.05, net=\"model.pt\")"
   ]
  },
  {
   "cell_type": "markdown",
   "id": "8639c6c8",
   "metadata": {},
   "source": [
    "The CCI function calculates all significant ligand-receptor interactions and plots a heatmap and dotplot of the results. "
   ]
  },
  {
   "cell_type": "markdown",
   "id": "b506b62c",
   "metadata": {},
   "source": [
    "Optionally if all the results are obtained, plotting the results can be done separately."
   ]
  },
  {
   "cell_type": "code",
   "execution_count": null,
   "id": "e68cbadc",
   "metadata": {},
   "outputs": [],
   "source": [
    "plotting()"
   ]
  },
  {
   "cell_type": "markdown",
   "id": "4c620812",
   "metadata": {},
   "source": [
    "## Part 6: Animation platform"
   ]
  },
  {
   "cell_type": "markdown",
   "id": "d7b07916",
   "metadata": {},
   "source": [
    "Model parameters described in part 5 and in our animation tutorial video."
   ]
  },
  {
   "cell_type": "code",
   "execution_count": null,
   "id": "88dce45e",
   "metadata": {},
   "outputs": [],
   "source": [
    "model_params = abm_copy.parameters(adata_decon, lig_uni, rec_uni, rates, clusters, pairs, proteins)"
   ]
  },
  {
   "cell_type": "markdown",
   "id": "30ff3f28",
   "metadata": {},
   "source": [
    "Call the animation platform. This will produce a popup to the animation server. If not considering spatial information ```dist_on``` must be set to ```False```. Otherwise ```dist_on=True```. \n",
    "\n",
    "Note: The animation platform needs to be re opened with a different ```port``` number at every use (as long as the same jupyter notebook file is open).  "
   ]
  },
  {
   "cell_type": "code",
   "execution_count": null,
   "id": "c7dac014",
   "metadata": {},
   "outputs": [],
   "source": [
    "abm.visualization(adata_decon, model_params, dist_on=True, port=8521)"
   ]
  }
 ],
 "metadata": {
  "kernelspec": {
   "display_name": "Python 3 (ipykernel)",
   "language": "python",
   "name": "python3"
  },
  "language_info": {
   "codemirror_mode": {
    "name": "ipython",
    "version": 3
   },
   "file_extension": ".py",
   "mimetype": "text/x-python",
   "name": "python",
   "nbconvert_exporter": "python",
   "pygments_lexer": "ipython3",
   "version": "3.10.4"
  }
 },
 "nbformat": 4,
 "nbformat_minor": 5
}
